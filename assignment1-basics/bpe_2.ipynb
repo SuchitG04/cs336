{
 "cells": [
  {
   "cell_type": "code",
   "execution_count": 2,
   "id": "f1305e76",
   "metadata": {},
   "outputs": [],
   "source": [
    "# text = open(\"tests/fixtures/corpus.en\").read()\n",
    "text = open(\"../data/TinyStoriesV2-GPT4-valid.txt\").read()"
   ]
  },
  {
   "cell_type": "code",
   "execution_count": 3,
   "id": "ae68c98b",
   "metadata": {},
   "outputs": [],
   "source": [
    "import regex as re\n",
    "from collections import Counter"
   ]
  },
  {
   "cell_type": "code",
   "execution_count": 4,
   "id": "2b49e74d",
   "metadata": {},
   "outputs": [],
   "source": [
    "PAT = r\"\"\"'(?:[sdmt]|ll|ve|re)| ?\\p{L}+| ?\\p{N}+| ?[^\\s\\p{L}\\p{N}]+|\\s+(?!\\S)|\\s+\"\"\""
   ]
  },
  {
   "cell_type": "code",
   "execution_count": 5,
   "id": "dfe84c36",
   "metadata": {},
   "outputs": [
    {
     "data": {
      "text/plain": [
       "(b't', b'e', b's', b't', b' ', b's', b't', b'r', b'i', b'n', b'g')"
      ]
     },
     "execution_count": 5,
     "metadata": {},
     "output_type": "execute_result"
    }
   ],
   "source": [
    "tuple([bytes([o]) for o in list(\"test string\".encode(\"utf-8\"))])"
   ]
  },
  {
   "cell_type": "code",
   "execution_count": 6,
   "id": "a040a069",
   "metadata": {},
   "outputs": [],
   "source": [
    "def get_word_count(text, PAT):\n",
    "    word_count = Counter()\n",
    "    for word in re.finditer(PAT, text, re.IGNORECASE):\n",
    "        word = word.captures()[0]\n",
    "        word_count[\n",
    "            tuple([bytes([o]) for o in list(word.encode(\"utf-8\"))])\n",
    "        ] += 1\n",
    "\n",
    "    return word_count"
   ]
  },
  {
   "cell_type": "code",
   "execution_count": 7,
   "id": "14f736ab",
   "metadata": {},
   "outputs": [],
   "source": [
    "def get_pair_count(word_count):\n",
    "    pair_count = Counter()\n",
    "    for word, freq in word_count.items(): \n",
    "        for p in zip(word, word[1:]):\n",
    "            pair_count[p] += freq\n",
    "\n",
    "    return pair_count"
   ]
  },
  {
   "cell_type": "code",
   "execution_count": 8,
   "id": "f62789aa",
   "metadata": {},
   "outputs": [],
   "source": [
    "def merge(word_count, pair_count, top_pair):\n",
    "    new_word_count = Counter()\n",
    "    for word, freq in word_count.items(): # word_count -> dict[tuple[bytes], int]\n",
    "        new_word = ()\n",
    "        i = 0\n",
    "        idxs = []\n",
    "\n",
    "        new_tok: bytes = top_pair[0] + top_pair[1]\n",
    "\n",
    "        while i+1 < len(word):\n",
    "            if (word[i], word[i+1]) == top_pair:\n",
    "                idxs.append(i)\n",
    "                new_word += (new_tok, )\n",
    "                pair_count[top_pair] -= freq # decrement top_pair's count\n",
    "                if i-1 >= 0:\n",
    "                    pair_count[(word[i-1], word[i])] -= freq # decrement left neighbour\n",
    "                if i+2 < len(word):\n",
    "                    pair_count[(word[i+1], word[i+2])] -= freq # decrement right neighbour\n",
    "                i += 2\n",
    "            else:\n",
    "                new_word += (word[i], )\n",
    "                i += 1\n",
    "        if i < len(word): new_word += (word[i], )\n",
    "\n",
    "        if idxs:\n",
    "            # create and insert the new tuple\n",
    "            new_word_count[new_word] = freq\n",
    "            # add new neighbours' counts\n",
    "            for idx in idxs:\n",
    "                if idx-1 >= 0:\n",
    "                    pair_count[(word[idx-1], new_tok)] += freq # left neighbour\n",
    "                if idx+2 < len(word):\n",
    "                    pair_count[(new_tok, word[idx+2])] += freq # right neighbour\n",
    "        else:\n",
    "            new_word_count[new_word] = freq\n",
    "\n",
    "    return new_word_count"
   ]
  },
  {
   "cell_type": "code",
   "execution_count": 9,
   "id": "be899634",
   "metadata": {},
   "outputs": [],
   "source": [
    "def merge(word_count, pair_count, top_pair):\n",
    "    new_word_count = Counter()\n",
    "    for word, freq in word_count.items(): # word_count -> dict[tuple[bytes], int]\n",
    "        new_word = ()\n",
    "        idxs = []\n",
    "        new_tok: bytes = top_pair[0] + top_pair[1]\n",
    "\n",
    "        i = 0\n",
    "        pairs_to_decrement = set()\n",
    "        while i+1 < len(word):\n",
    "            if (word[i], word[i+1]) == top_pair:\n",
    "                idxs.append(i)\n",
    "                new_word += (new_tok, )\n",
    "                if i > 0          : pairs_to_decrement.add((word[i-1], word[i]))\n",
    "                if i+2 < len(word): pairs_to_decrement.add((word[i+1], word[i+2]))\n",
    "                i += 2\n",
    "            else:\n",
    "                new_word += (word[i], )\n",
    "                i += 1\n",
    "        if i < len(word): new_word += (word[i], )\n",
    "\n",
    "        for pair in pairs_to_decrement:\n",
    "            if pair != top_pair:\n",
    "                pair_count[pair] -= freq\n",
    "\n",
    "        # create and insert the new tuple\n",
    "        new_word_count[new_word] = freq\n",
    "        if idxs:\n",
    "            # add new neighbours' counts\n",
    "            for (p1, p2) in zip(new_word, new_word[1:]):\n",
    "                if p1 == new_tok or p2 == new_tok:\n",
    "                    pair_count[(p1, p2)] += freq\n",
    "\n",
    "    return new_word_count"
   ]
  },
  {
   "cell_type": "code",
   "execution_count": 10,
   "id": "8fc49b4f",
   "metadata": {},
   "outputs": [
    {
     "data": {
      "text/plain": [
       "'<\\\\|endoftext\\\\|>'"
      ]
     },
     "execution_count": 10,
     "metadata": {},
     "output_type": "execute_result"
    }
   ],
   "source": [
    "special_tokens = [\"<|endoftext|>\"]\n",
    "escaped_tokens = [re.escape(o) for o in special_tokens]\n",
    "special_tok_pat = \"|\".join(escaped_tokens)\n",
    "special_tok_pat"
   ]
  },
  {
   "cell_type": "code",
   "execution_count": 11,
   "id": "ebf16764",
   "metadata": {},
   "outputs": [],
   "source": [
    "# text = \"\"\"low low low low low\n",
    "# lower lower widest widest widest\n",
    "# newest newest newest newest newest newest\"\"\""
   ]
  },
  {
   "cell_type": "code",
   "execution_count": 12,
   "id": "22b94271",
   "metadata": {},
   "outputs": [
    {
     "name": "stdout",
     "output_type": "stream",
     "text": [
      "0\n",
      "0\n",
      "0\n",
      "0\n",
      "0\n",
      "0\n",
      "5 MISMATCH for pair (b'a', b'n'): actual 98628, expected 98626\n",
      "5 MISMATCH for pair (b'u', b'n'): actual 41986, expected 41937\n",
      "5 MISMATCH for pair (b'd', b'e'): actual 52062, expected 51860\n",
      "5 MISMATCH for pair (b'd', b's'): actual 7263, expected 7261\n"
     ]
    }
   ],
   "source": [
    "word_count = get_word_count(text, PAT)\n",
    "pair_count = get_pair_count(word_count)\n",
    "merges = []\n",
    "vocab = {idx: bytes([idx]) for idx in range(256)}\n",
    "\n",
    "vocab_sz = 500\n",
    "num_merges = vocab_sz - 256\n",
    "for i in range(num_merges):\n",
    "    new_byte_idx = 256 + i\n",
    "    top_pair = max(pair_count, key=pair_count.get)\n",
    "    vocab[new_byte_idx] = top_pair[0] + top_pair[1]\n",
    "    del pair_count[top_pair]\n",
    "    word_count = merge(word_count, pair_count, top_pair)\n",
    "    merges.append(top_pair)\n",
    "\n",
    "    mismatch_found = False\n",
    "    for k_check, v_expected in get_pair_count(word_count).items():\n",
    "        v_actual = pair_count.get(k_check, 0)\n",
    "        if v_actual != v_expected:\n",
    "            print(f\"{i} MISMATCH for pair {k_check}: actual {v_actual}, expected {v_expected}\")\n",
    "            mismatch_found = True\n",
    "    if mismatch_found:\n",
    "        break\n",
    "    # if pair_count[top_pair] < 0: print(pair_count[top_pair], top_pair)"
   ]
  },
  {
   "cell_type": "code",
   "execution_count": null,
   "id": "25c748a0",
   "metadata": {},
   "outputs": [],
   "source": []
  },
  {
   "cell_type": "code",
   "execution_count": 50,
   "id": "75879496",
   "metadata": {},
   "outputs": [
    {
     "name": "stdout",
     "output_type": "stream",
     "text": [
      "k: (b'ig', b'h'); actual v: 3084; pair_count v: 3085\n",
      "k: (b'a', b'c'); actual v: 3130; pair_count v: 3182\n",
      "k: (b't', b'i'); actual v: 1023; pair_count v: 1194\n",
      "k: (b'n', b'g'); actual v: 1573; pair_count v: 2326\n",
      "k: (b'd', b's'); actual v: 1139; pair_count v: 1141\n",
      "k: (b'g', b'h'); actual v: 2348; pair_count v: 2349\n",
      "k: (b'm', b'a'); actual v: 2604; pair_count v: 2605\n",
      "k: (b'b', b'r'); actual v: 522; pair_count v: 525\n",
      "k: (b'd', b'e'); actual v: 795; pair_count v: 997\n",
      "k: (b'n', b'a'); actual v: 4180; pair_count v: 4557\n",
      "k: (b'd', b'a'); actual v: 10; pair_count v: 11\n",
      "k: (b'r', b'd'); actual v: 129; pair_count v: 270\n",
      "k: (b'e', b'i'); actual v: 2; pair_count v: 3\n"
     ]
    }
   ],
   "source": [
    "# sanity check\n",
    "for k,v in get_pair_count(word_count).items():\n",
    "    if v != pair_count[k]:\n",
    "        print(f\"k: {k}; actual v: {v}; pair_count v: {pair_count[k]}\")"
   ]
  },
  {
   "cell_type": "code",
   "execution_count": 35,
   "id": "be62418e",
   "metadata": {},
   "outputs": [],
   "source": [
    "t = \"\"\"u don't have to be scared of the loud dog, I'll protect you\". The mole felt so safe with the little girl. She was very kind and the mole soon came to trust her. He leaned against her and she kept him safe. The mole had found his best friend.\n",
    "<|endoftext|>\n",
    "Once upon a time, in a warm and sunny place, there was a big pit. A little boy named Tom liked to play near the pit. One day, Tom lost his red ball. He was very sad.\n",
    "Tom asked his friend, Sam, to help him search for the ball. They looked high and low, but they could not find the ball. Tom said, \"I think my ball fell into the pit.\"\n",
    "Sam and Tom went close to the pit. They were scared, but they wanted to find the red ball. They looked into the pit, but it was too dark to see. Tom said, \"We must go in and search for my ball.\"\n",
    "They went into the pit to search. It was dark and scary. They could not find the ball. They tried to get out, but the pit was too deep. Tom and Sam were stuck in the pit. They called for help, but no one could hear them. They were sad and scared, and they never got out of the pit.\n",
    "<|endoftext|>\n",
    "\n",
    "\n",
    "Tom and Lily were playing with their toys in the living room. They liked to build towers and bridges with their blocks and cars. Tom was very proud of his tall tower. He wanted to make it even taller, so he reached for more blocks.\n",
    "\"Tom, can I have some blocks too?\" Lily asked. She wanted to make a bridge for her cars.\n",
    "\"No, these are mine. Go find your own,\" Tom said. He did not want to share with his sister. He pulled the blocks closer to him.\n",
    "Lily felt sad and angry. She did not think Tom was being nice. She looked at his tower and had an idea. She decided to pull one of the blocks at the bottom of the tower.\n",
    "Suddenly, the tower fell down with a loud crash. All the blocks and cars scattered on the floor. Tom and Lily were shocked. They felt the floor shake and heard a rumble. It was an earthquake!\n",
    "\"Mommy! Daddy!\" they cried. They were scared and ran to their parents, who were in the kitchen.\n",
    "\"Are you okay, kids?\" Mommy asked. She hugged them and checked if they were hurt.\n",
    "\"We're okay, Mommy. But our toys are broken,\" Lily said.\n",
    "\"I'm sorry, Lily. But toys are not important. You are important. We are safe and together. That's what matters,\" Mommy said.\n",
    "Tom felt sorry for what he did. He realized he was selfish and mean to his sister. He saw how scared she was during the earthquake. He wanted to make her happy.\n",
    "\"Lily, I'm sorry I did not share with you. You can have all the blocks you want. I love you, sister,\" Tom said.\n",
    "Lily smiled and hugged him. She forgave him and thanked him. She loved him too.\n",
    "They went back to the living room and cleaned up their toys. They decided to build something together. They made a big house with a garden and a fence. They put their cars and dolls inside. They were happy and proud of their work.\n",
    "Mommy and Daddy came to see their house. They praised them and gave them a treat. It was a lemon cake. It was sour, but they liked it. They learned that sharing is caring, and that family is sweet.\n",
    "<|endoftext|>\"\"\""
   ]
  },
  {
   "cell_type": "code",
   "execution_count": 36,
   "id": "e0606c3e",
   "metadata": {},
   "outputs": [
    {
     "name": "stdout",
     "output_type": "stream",
     "text": [
      "u don't have to be scared of the loud dog, I'll protect you\". The mole felt so safe with the little girl. She was very kind and the mole soon came to trust her. He leaned against her and she kept him safe. The mole had found his best friend.\n",
      "\n",
      "---\n",
      "\n",
      "Once upon a time, in a warm and sunny place, there was a big pit. A little boy named Tom liked to play near the pit. One day, Tom lost his red ball. He was very sad.\n",
      "Tom asked his friend, Sam, to help him search for the ball. They looked high and low, but they could not find the ball. Tom said, \"I think my ball fell into the pit.\"\n",
      "Sam and Tom went close to the pit. They were scared, but they wanted to find the red ball. They looked into the pit, but it was too dark to see. Tom said, \"We must go in and search for my ball.\"\n",
      "They went into the pit to search. It was dark and scary. They could not find the ball. They tried to get out, but the pit was too deep. Tom and Sam were stuck in the pit. They called for help, but no one could hear them. They were sad and scared, and they never got out of the pit.\n",
      "\n",
      "---\n",
      "\n",
      "\n",
      "\n",
      "Tom and Lily were playing with their toys in the living room. They liked to build towers and bridges with their blocks and cars. Tom was very proud of his tall tower. He wanted to make it even taller, so he reached for more blocks.\n",
      "\"Tom, can I have some blocks too?\" Lily asked. She wanted to make a bridge for her cars.\n",
      "\"No, these are mine. Go find your own,\" Tom said. He did not want to share with his sister. He pulled the blocks closer to him.\n",
      "Lily felt sad and angry. She did not think Tom was being nice. She looked at his tower and had an idea. She decided to pull one of the blocks at the bottom of the tower.\n",
      "Suddenly, the tower fell down with a loud crash. All the blocks and cars scattered on the floor. Tom and Lily were shocked. They felt the floor shake and heard a rumble. It was an earthquake!\n",
      "\"Mommy! Daddy!\" they cried. They were scared and ran to their parents, who were in the kitchen.\n",
      "\"Are you okay, kids?\" Mommy asked. She hugged them and checked if they were hurt.\n",
      "\"We're okay, Mommy. But our toys are broken,\" Lily said.\n",
      "\"I'm sorry, Lily. But toys are not important. You are important. We are safe and together. That's what matters,\" Mommy said.\n",
      "Tom felt sorry for what he did. He realized he was selfish and mean to his sister. He saw how scared she was during the earthquake. He wanted to make her happy.\n",
      "\"Lily, I'm sorry I did not share with you. You can have all the blocks you want. I love you, sister,\" Tom said.\n",
      "Lily smiled and hugged him. She forgave him and thanked him. She loved him too.\n",
      "They went back to the living room and cleaned up their toys. They decided to build something together. They made a big house with a garden and a fence. They put their cars and dolls inside. They were happy and proud of their work.\n",
      "Mommy and Daddy came to see their house. They praised them and gave them a treat. It was a lemon cake. It was sour, but they liked it. They learned that sharing is caring, and that family is sweet.\n",
      "\n",
      "---\n",
      "\n",
      "---\n"
     ]
    }
   ],
   "source": [
    "for w in re.splititer(special_tok_pat, t):\n",
    "    print(w)\n",
    "    print(\"---\")"
   ]
  },
  {
   "cell_type": "code",
   "execution_count": 37,
   "id": "72436ab8",
   "metadata": {},
   "outputs": [],
   "source": [
    "import os\n",
    "from typing import BinaryIO\n",
    "\n",
    "def find_chunk_boundaries(\n",
    "    file: BinaryIO, \n",
    "    desired_num_chunks: int, \n",
    "    split_special_token: bytes\n",
    ") -> list[int]:\n",
    "    \"\"\"\n",
    "    Chunk the file into parts that can be counted independently.\n",
    "    May return fewer chunks if the boundaries end up overlapping.\n",
    "    \"\"\"\n",
    "    assert isinstance(split_special_token, bytes), (\n",
    "        \"Must represent special token as a bytestring\"\n",
    "    )\n",
    "\n",
    "    # Get total file size in bytes\n",
    "    file.seek(0, os.SEEK_END)\n",
    "    file_size = file.tell()\n",
    "    file.seek(0)\n",
    "\n",
    "    chunk_size = file_size // desired_num_chunks\n",
    "\n",
    "    # Initial guesses for chunk boundary locations, uniformly spaced\n",
    "    # Chunks start on previous index, don't include last index\n",
    "    chunk_boundaries = [i * chunk_size for i in range(desired_num_chunks + 1)]\n",
    "    chunk_boundaries[-1] = file_size\n",
    "\n",
    "    mini_chunk_size = 4096  # Read ahead by 4k bytes at a time\n",
    "\n",
    "    for bi in range(1, len(chunk_boundaries) - 1):\n",
    "        initial_position = chunk_boundaries[bi]\n",
    "        file.seek(initial_position)  # Start at boundary guess\n",
    "        while True:\n",
    "            mini_chunk = file.read(mini_chunk_size)  # Read a mini chunk\n",
    "\n",
    "            # If EOF, this boundary should be at the end of the file\n",
    "            if mini_chunk == b\"\":\n",
    "                chunk_boundaries[bi] = file_size\n",
    "                break\n",
    "\n",
    "            # Find the special token in the mini chunk\n",
    "            found_at = mini_chunk.find(split_special_token)\n",
    "            if found_at != -1:\n",
    "                chunk_boundaries[bi] = initial_position + found_at\n",
    "                break\n",
    "            initial_position += mini_chunk_size\n",
    "\n",
    "    # Make sure all boundaries are unique, but might be fewer than desired_num_chunks\n",
    "    return sorted(set(chunk_boundaries))"
   ]
  },
  {
   "cell_type": "code",
   "execution_count": 38,
   "id": "53a3091d",
   "metadata": {},
   "outputs": [
    {
     "data": {
      "text/plain": [
       "[0,\n",
       " 1066,\n",
       " 3035,\n",
       " 4075,\n",
       " 4742,\n",
       " 6584,\n",
       " 7560,\n",
       " 9498,\n",
       " 10895,\n",
       " 11739,\n",
       " 12410,\n",
       " 13340,\n",
       " 14054,\n",
       " 15759,\n",
       " 17099,\n",
       " 17737,\n",
       " 18519]"
      ]
     },
     "execution_count": 38,
     "metadata": {},
     "output_type": "execute_result"
    }
   ],
   "source": [
    "find_chunk_boundaries(open(\"../data/tiny_test.txt\", \"rb\"), 20, \"<|endoftext|>\".encode(\"utf-8\"))"
   ]
  },
  {
   "cell_type": "code",
   "execution_count": 39,
   "id": "fa471172",
   "metadata": {},
   "outputs": [],
   "source": [
    "with open(\"../data/tiny_test.txt\", \"rb\") as f:\n",
    "    boundaries = find_chunk_boundaries(f, 6, \"<|endoftext|>\".encode(\"utf-8\"))\n",
    "    f.seek(boundaries[1])\n",
    "    chunk = f.read(boundaries[2] - boundaries[1]).decode(\"utf-8\", errors=\"ignore\")"
   ]
  },
  {
   "cell_type": "code",
   "execution_count": 40,
   "id": "530e81d9",
   "metadata": {},
   "outputs": [
    {
     "name": "stdout",
     "output_type": "stream",
     "text": [
      "<|endoftext|>\n",
      "One morning, a cat named Tom woke up. He felt happy because the sun was shining. Tom wanted to start his day, so he did a big stretch. He stretched his legs, his back, and his tail. It felt easy and good.\n",
      "Tom went outside to play. He saw his friend, a dog named Max. Max was also stretching in the morning sun. They both felt very happy. They decided to play together and have fun all day.\n",
      "At the end of the day, Tom and Max were tired. They had played all day and had lots of fun. They said goodbye to each other and went to their homes. Before going to sleep, they both did another easy stretch. Tom knew that tomorrow would be another happy morning.\n",
      "<|endoftext|>\n",
      "\n",
      "\n",
      "Lily and Tom were twins who liked to decorate things. They had a big box of crayons, stickers, and glitter. One day, they found a shiny copper pot in the kitchen. It was Mom's pot, but she was not home. Lily and Tom wanted to make it more pretty.\n",
      "They took the pot to their room and put it on the floor. They opened their box of crayons, stickers, and glitter. They started to draw and stick and sprinkle on the pot. They made colorful shapes and patterns. They thought the pot looked very nice.\n",
      "But they were clumsy. They did not see that they also made a big mess. They spilled glitter on the floor and the bed. They stuck stickers on the wall and the door. They drew crayons on the window and the dresser. They did not hear Mom come home.\n",
      "Mom saw the mess in the kitchen. She saw the glitter, the stickers, and the crayons. She was angry. She followed the trail to their room. She saw the pot. She saw the floor, the bed, the wall, the door, the window, and the dresser. She was very angry.\n",
      "She said, \"Lily and Tom, what did you do? You ruined my pot and my room. You are very naughty. You have to clean up everything. And you have to say sorry.\"\n",
      "Lily and Tom were scared. They did not mean to make Mom angry. They only wanted to decorate the pot. They said, \"Sorry, Mom. We love you. We will clean up. Please don't be mad.\"\n",
      "Mom sighed. She was still angry, but she also loved them. She said, \"I love you too, but you have to be careful. You can't touch my things without asking. And you can't make a mess like this. You have to learn to be more tidy and respectful.\"\n",
      "Lily and Tom nodded. They hugged Mom and said, \"We will, Mom. We will.\" They took a broom, a dustpan, and a cloth. They started to clean up their mess. They hoped Mom would forgive them. They learned their lesson. They would not decorate Mom's pot again.\n",
      "\n"
     ]
    }
   ],
   "source": [
    "print(chunk)"
   ]
  },
  {
   "cell_type": "code",
   "execution_count": 41,
   "id": "032a9148",
   "metadata": {},
   "outputs": [],
   "source": [
    "import multiprocessing as mp"
   ]
  },
  {
   "cell_type": "code",
   "execution_count": 42,
   "id": "1fe32703",
   "metadata": {},
   "outputs": [],
   "source": [
    "def foo(start, end, f, q):\n",
    "    q.put(f\"processing {start} - {end} bytes in {f.name}\")"
   ]
  },
  {
   "cell_type": "code",
   "execution_count": 43,
   "id": "7860c958",
   "metadata": {},
   "outputs": [],
   "source": [
    "procs = []\n",
    "res_q = mp.Queue()\n",
    "results = []\n",
    "with open(\"../data/tiny_test.txt\", \"rb\") as f:\n",
    "    boundaries = find_chunk_boundaries(f, 6, b\"<|endoftext|>\")\n",
    "\n",
    "    for start, end in zip(boundaries[:-1], boundaries[1:]):\n",
    "        proc = mp.Process(target=foo, args=(start, end, f, res_q))\n",
    "        procs.append(proc)\n",
    "        proc.start()\n",
    "\n",
    "    for _ in range(6):\n",
    "        results.append(res_q.get())\n",
    "    \n",
    "    for proc in procs:\n",
    "        proc.join()"
   ]
  },
  {
   "cell_type": "code",
   "execution_count": 44,
   "id": "7580e2dd",
   "metadata": {},
   "outputs": [
    {
     "data": {
      "text/plain": [
       "['processing 0 - 4075 bytes in ../data/tiny_test.txt',\n",
       " 'processing 4075 - 6584 bytes in ../data/tiny_test.txt',\n",
       " 'processing 6584 - 9498 bytes in ../data/tiny_test.txt',\n",
       " 'processing 9498 - 12410 bytes in ../data/tiny_test.txt',\n",
       " 'processing 12410 - 15759 bytes in ../data/tiny_test.txt',\n",
       " 'processing 15759 - 18519 bytes in ../data/tiny_test.txt']"
      ]
     },
     "execution_count": 44,
     "metadata": {},
     "output_type": "execute_result"
    }
   ],
   "source": [
    "results"
   ]
  },
  {
   "cell_type": "code",
   "execution_count": 6,
   "id": "58fe9b72",
   "metadata": {},
   "outputs": [],
   "source": [
    "from cs336_basics.train_bpe import train_bpe"
   ]
  },
  {
   "cell_type": "code",
   "execution_count": 2,
   "id": "5d816eb2",
   "metadata": {},
   "outputs": [
    {
     "name": "stdout",
     "output_type": "stream",
     "text": [
      "3 MISMATCH for pair (b'n', b'i'): actual 100, expected 112\n"
     ]
    }
   ],
   "source": [
    "v, m, w, p = train_bpe(\"tests/fixtures/corpus.en\", 500, [\"<|endoftext|>\"])"
   ]
  },
  {
   "cell_type": "code",
   "execution_count": 10,
   "id": "8443fd76",
   "metadata": {},
   "outputs": [
    {
     "name": "stdout",
     "output_type": "stream",
     "text": [
      "k: (b's', b'a'); actual v: 3; pair_count v: 2\n",
      "k: (b'g', b'in'); actual v: 39; pair_count v: 36\n",
      "k: (b'n', b'i'); actual v: 14; pair_count v: 2\n",
      "k: (b's', b'i'); actual v: 26; pair_count v: 24\n",
      "k: (b'd', b'e'); actual v: 17; pair_count v: 16\n",
      "k: (b'l', b'i'); actual v: 27; pair_count v: 26\n"
     ]
    }
   ],
   "source": [
    "# sanity check\n",
    "for k,v in get_pair_count(w).items():\n",
    "    if v != p[k]:\n",
    "        print(f\"k: {k}; actual v: {v}; pair_count v: {p[k]}\")"
   ]
  },
  {
   "cell_type": "code",
   "execution_count": 7,
   "id": "b9662198",
   "metadata": {},
   "outputs": [
    {
     "name": "stdout",
     "output_type": "stream",
     "text": [
      "7 MISMATCH for pair (b'd', b'e'): actual 42624, expected 43881\n"
     ]
    }
   ],
   "source": [
    "v, m, w, p = train_bpe(\"../data/TinyStoriesV2-GPT4-valid.txt\", 500, [\"<|endoftext|>\"])"
   ]
  },
  {
   "cell_type": "code",
   "execution_count": 12,
   "id": "de0f2905",
   "metadata": {},
   "outputs": [
    {
     "name": "stdout",
     "output_type": "stream",
     "text": [
      "k: (b'd', b'e'); actual v: 43881; pair_count v: 42624\n"
     ]
    }
   ],
   "source": [
    "# sanity check\n",
    "for k,v in get_pair_count(w).items():\n",
    "    if v != p[k]:\n",
    "        print(f\"k: {k}; actual v: {v}; pair_count v: {p[k]}\")"
   ]
  },
  {
   "cell_type": "code",
   "execution_count": 13,
   "id": "66376271",
   "metadata": {},
   "outputs": [
    {
     "name": "stdout",
     "output_type": "stream",
     "text": [
      "7 MISMATCH for pair (b'd', b'e'): actual 35, expected 36\n"
     ]
    }
   ],
   "source": [
    "v, m, w, p = train_bpe(\"../data/tiny_test.txt\", 500, [\"<|endoftext|>\"])"
   ]
  },
  {
   "cell_type": "code",
   "execution_count": null,
   "id": "c1b7e1ea",
   "metadata": {},
   "outputs": [],
   "source": []
  }
 ],
 "metadata": {
  "kernelspec": {
   "display_name": ".venv",
   "language": "python",
   "name": "python3"
  },
  "language_info": {
   "codemirror_mode": {
    "name": "ipython",
    "version": 3
   },
   "file_extension": ".py",
   "mimetype": "text/x-python",
   "name": "python",
   "nbconvert_exporter": "python",
   "pygments_lexer": "ipython3",
   "version": "3.12.9"
  }
 },
 "nbformat": 4,
 "nbformat_minor": 5
}
